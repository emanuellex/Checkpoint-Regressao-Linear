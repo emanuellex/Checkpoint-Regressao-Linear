{
  "nbformat": 4,
  "nbformat_minor": 0,
  "metadata": {
    "colab": {
      "name": "checkpoint2.ipynb",
      "provenance": [],
      "collapsed_sections": [],
      "include_colab_link": true
    },
    "kernelspec": {
      "name": "python3",
      "display_name": "Python 3"
    },
    "language_info": {
      "name": "python"
    }
  },
  "cells": [
    {
      "cell_type": "markdown",
      "metadata": {
        "id": "view-in-github",
        "colab_type": "text"
      },
      "source": [
        "<a href=\"https://colab.research.google.com/github/emanuellex/Checkpoint-Regressao-Linear/blob/main/checkpoint2.ipynb\" target=\"_parent\"><img src=\"https://colab.research.google.com/assets/colab-badge.svg\" alt=\"Open In Colab\"/></a>"
      ]
    },
    {
      "cell_type": "markdown",
      "metadata": {
        "id": "nynuq-iVOw-x"
      },
      "source": [
        "**Checkpoint 2 - IA & Chatbot**\n",
        "\n",
        "Regressão Linear\n",
        "\n",
        "Nomes:\n",
        "\n",
        "EMANUELLE PEREIRA \n",
        "\n",
        "\n"
      ]
    },
    {
      "cell_type": "markdown",
      "metadata": {
        "id": "ZRqlrqGYPMmR"
      },
      "source": [
        "## Exercício Regressão Linear"
      ]
    },
    {
      "cell_type": "code",
      "metadata": {
        "id": "MUZF86j85TJl"
      },
      "source": [
        "import pandas as pd\n",
        "from sklearn.linear_model import LinearRegression\n",
        "from sklearn.model_selection import train_test_split\n",
        "\n",
        "from sklearn.metrics import mean_squared_error, mean_absolute_error, r2_score\n",
        "\n",
        "import seaborn as sns\n",
        "import matplotlib.pyplot as plt\n",
        "import numpy as np"
      ],
      "execution_count": null,
      "outputs": []
    },
    {
      "cell_type": "markdown",
      "metadata": {
        "id": "QHn-vYdFPTq5"
      },
      "source": [
        "1. Carregar os dataset do exercício:\n",
        "\n",
        "\n"
      ]
    },
    {
      "cell_type": "code",
      "metadata": {
        "id": "_zWSAfzWPL7J",
        "colab": {
          "base_uri": "https://localhost:8080/"
        },
        "outputId": "6b2f94c4-ed98-46a9-b3e7-65f542a4c337"
      },
      "source": [
        "import pandas as pd\n",
        "\n",
        "from google_drive_downloader import GoogleDriveDownloader as gdd\n",
        "\n",
        "data_google_id = '1W2ypahIKNIDd8O2dFUmsy7IXfGnIcClT'\n",
        "gdd.download_file_from_google_drive(file_id=data_google_id, \n",
        "                                    dest_path = './admissao.csv',\n",
        "                                    showsize = True)\n",
        "\n",
        "dados = pd.read_csv(\"admissao.csv\", sep = ',') "
      ],
      "execution_count": null,
      "outputs": [
        {
          "output_type": "stream",
          "name": "stdout",
          "text": [
            "Downloading 1W2ypahIKNIDd8O2dFUmsy7IXfGnIcClT into ./admissao.csv... \n",
            "0.0 B Done.\n"
          ]
        }
      ]
    },
    {
      "cell_type": "markdown",
      "metadata": {
        "id": "V25pwzPJPY_P"
      },
      "source": [
        "2. Fazer a análise exploratória dos dados \n"
      ]
    },
    {
      "cell_type": "code",
      "metadata": {
        "id": "uuAyR8aIRtkq",
        "colab": {
          "base_uri": "https://localhost:8080/",
          "height": 204
        },
        "outputId": "54dc6129-954d-40b1-9aae-5f69d84d6cc5"
      },
      "source": [
        "dados.head()"
      ],
      "execution_count": null,
      "outputs": [
        {
          "output_type": "execute_result",
          "data": {
            "text/html": [
              "<div>\n",
              "<style scoped>\n",
              "    .dataframe tbody tr th:only-of-type {\n",
              "        vertical-align: middle;\n",
              "    }\n",
              "\n",
              "    .dataframe tbody tr th {\n",
              "        vertical-align: top;\n",
              "    }\n",
              "\n",
              "    .dataframe thead th {\n",
              "        text-align: right;\n",
              "    }\n",
              "</style>\n",
              "<table border=\"1\" class=\"dataframe\">\n",
              "  <thead>\n",
              "    <tr style=\"text-align: right;\">\n",
              "      <th></th>\n",
              "      <th>Serial_num.</th>\n",
              "      <th>GRE_Score</th>\n",
              "      <th>TOEFL_Score</th>\n",
              "      <th>University_Rating</th>\n",
              "      <th>SOP</th>\n",
              "      <th>LOR</th>\n",
              "      <th>CGPA</th>\n",
              "      <th>Research</th>\n",
              "      <th>Chance</th>\n",
              "    </tr>\n",
              "  </thead>\n",
              "  <tbody>\n",
              "    <tr>\n",
              "      <th>0</th>\n",
              "      <td>1</td>\n",
              "      <td>337</td>\n",
              "      <td>118</td>\n",
              "      <td>4</td>\n",
              "      <td>4.5</td>\n",
              "      <td>4.5</td>\n",
              "      <td>9.65</td>\n",
              "      <td>1</td>\n",
              "      <td>0.92</td>\n",
              "    </tr>\n",
              "    <tr>\n",
              "      <th>1</th>\n",
              "      <td>2</td>\n",
              "      <td>324</td>\n",
              "      <td>107</td>\n",
              "      <td>4</td>\n",
              "      <td>4.0</td>\n",
              "      <td>4.5</td>\n",
              "      <td>8.87</td>\n",
              "      <td>1</td>\n",
              "      <td>0.76</td>\n",
              "    </tr>\n",
              "    <tr>\n",
              "      <th>2</th>\n",
              "      <td>3</td>\n",
              "      <td>316</td>\n",
              "      <td>104</td>\n",
              "      <td>3</td>\n",
              "      <td>3.0</td>\n",
              "      <td>3.5</td>\n",
              "      <td>8.00</td>\n",
              "      <td>1</td>\n",
              "      <td>0.72</td>\n",
              "    </tr>\n",
              "    <tr>\n",
              "      <th>3</th>\n",
              "      <td>4</td>\n",
              "      <td>322</td>\n",
              "      <td>110</td>\n",
              "      <td>3</td>\n",
              "      <td>3.5</td>\n",
              "      <td>2.5</td>\n",
              "      <td>8.67</td>\n",
              "      <td>1</td>\n",
              "      <td>0.80</td>\n",
              "    </tr>\n",
              "    <tr>\n",
              "      <th>4</th>\n",
              "      <td>5</td>\n",
              "      <td>314</td>\n",
              "      <td>103</td>\n",
              "      <td>2</td>\n",
              "      <td>2.0</td>\n",
              "      <td>3.0</td>\n",
              "      <td>8.21</td>\n",
              "      <td>0</td>\n",
              "      <td>0.65</td>\n",
              "    </tr>\n",
              "  </tbody>\n",
              "</table>\n",
              "</div>"
            ],
            "text/plain": [
              "   Serial_num.  GRE_Score  TOEFL_Score  ...  CGPA  Research  Chance\n",
              "0            1        337          118  ...  9.65         1    0.92\n",
              "1            2        324          107  ...  8.87         1    0.76\n",
              "2            3        316          104  ...  8.00         1    0.72\n",
              "3            4        322          110  ...  8.67         1    0.80\n",
              "4            5        314          103  ...  8.21         0    0.65\n",
              "\n",
              "[5 rows x 9 columns]"
            ]
          },
          "metadata": {},
          "execution_count": 5
        }
      ]
    },
    {
      "cell_type": "code",
      "metadata": {
        "id": "wERsIhXHR0rP",
        "colab": {
          "base_uri": "https://localhost:8080/"
        },
        "outputId": "fd0a790c-f2a2-4b7a-af78-ab70b0f5f014"
      },
      "source": [
        "dados.info()"
      ],
      "execution_count": null,
      "outputs": [
        {
          "output_type": "stream",
          "name": "stdout",
          "text": [
            "<class 'pandas.core.frame.DataFrame'>\n",
            "RangeIndex: 400 entries, 0 to 399\n",
            "Data columns (total 9 columns):\n",
            " #   Column             Non-Null Count  Dtype  \n",
            "---  ------             --------------  -----  \n",
            " 0   Serial_num.        400 non-null    int64  \n",
            " 1   GRE_Score          400 non-null    int64  \n",
            " 2   TOEFL_Score        400 non-null    int64  \n",
            " 3   University_Rating  400 non-null    int64  \n",
            " 4   SOP                400 non-null    float64\n",
            " 5   LOR                400 non-null    float64\n",
            " 6   CGPA               400 non-null    float64\n",
            " 7   Research           400 non-null    int64  \n",
            " 8   Chance             400 non-null    float64\n",
            "dtypes: float64(4), int64(5)\n",
            "memory usage: 28.2 KB\n"
          ]
        }
      ]
    },
    {
      "cell_type": "code",
      "metadata": {
        "id": "2dEb0IIcZvbm",
        "colab": {
          "base_uri": "https://localhost:8080/"
        },
        "outputId": "80c066a5-434a-4425-cf94-0b5ae6ff50ed"
      },
      "source": [
        "dados.columns"
      ],
      "execution_count": null,
      "outputs": [
        {
          "output_type": "execute_result",
          "data": {
            "text/plain": [
              "Index(['Serial_num.', 'GRE_Score', 'TOEFL_Score', 'University_Rating', 'SOP',\n",
              "       'LOR ', 'CGPA', 'Research', 'Chance'],\n",
              "      dtype='object')"
            ]
          },
          "metadata": {},
          "execution_count": 8
        }
      ]
    },
    {
      "cell_type": "code",
      "metadata": {
        "id": "M6M6X3abUXqI",
        "colab": {
          "base_uri": "https://localhost:8080/",
          "height": 297
        },
        "outputId": "b2109363-fe14-4c2d-ca59-ffb1767f451b"
      },
      "source": [
        "dados.describe()"
      ],
      "execution_count": null,
      "outputs": [
        {
          "output_type": "execute_result",
          "data": {
            "text/html": [
              "<div>\n",
              "<style scoped>\n",
              "    .dataframe tbody tr th:only-of-type {\n",
              "        vertical-align: middle;\n",
              "    }\n",
              "\n",
              "    .dataframe tbody tr th {\n",
              "        vertical-align: top;\n",
              "    }\n",
              "\n",
              "    .dataframe thead th {\n",
              "        text-align: right;\n",
              "    }\n",
              "</style>\n",
              "<table border=\"1\" class=\"dataframe\">\n",
              "  <thead>\n",
              "    <tr style=\"text-align: right;\">\n",
              "      <th></th>\n",
              "      <th>Serial_num.</th>\n",
              "      <th>GRE_Score</th>\n",
              "      <th>TOEFL_Score</th>\n",
              "      <th>University_Rating</th>\n",
              "      <th>SOP</th>\n",
              "      <th>LOR</th>\n",
              "      <th>CGPA</th>\n",
              "      <th>Research</th>\n",
              "      <th>Chance</th>\n",
              "    </tr>\n",
              "  </thead>\n",
              "  <tbody>\n",
              "    <tr>\n",
              "      <th>count</th>\n",
              "      <td>400.000000</td>\n",
              "      <td>400.000000</td>\n",
              "      <td>400.000000</td>\n",
              "      <td>400.000000</td>\n",
              "      <td>400.000000</td>\n",
              "      <td>400.000000</td>\n",
              "      <td>400.000000</td>\n",
              "      <td>400.000000</td>\n",
              "      <td>400.000000</td>\n",
              "    </tr>\n",
              "    <tr>\n",
              "      <th>mean</th>\n",
              "      <td>200.500000</td>\n",
              "      <td>316.807500</td>\n",
              "      <td>107.410000</td>\n",
              "      <td>3.087500</td>\n",
              "      <td>3.400000</td>\n",
              "      <td>3.452500</td>\n",
              "      <td>8.598925</td>\n",
              "      <td>0.547500</td>\n",
              "      <td>0.724350</td>\n",
              "    </tr>\n",
              "    <tr>\n",
              "      <th>std</th>\n",
              "      <td>115.614301</td>\n",
              "      <td>11.473646</td>\n",
              "      <td>6.069514</td>\n",
              "      <td>1.143728</td>\n",
              "      <td>1.006869</td>\n",
              "      <td>0.898478</td>\n",
              "      <td>0.596317</td>\n",
              "      <td>0.498362</td>\n",
              "      <td>0.142609</td>\n",
              "    </tr>\n",
              "    <tr>\n",
              "      <th>min</th>\n",
              "      <td>1.000000</td>\n",
              "      <td>290.000000</td>\n",
              "      <td>92.000000</td>\n",
              "      <td>1.000000</td>\n",
              "      <td>1.000000</td>\n",
              "      <td>1.000000</td>\n",
              "      <td>6.800000</td>\n",
              "      <td>0.000000</td>\n",
              "      <td>0.340000</td>\n",
              "    </tr>\n",
              "    <tr>\n",
              "      <th>25%</th>\n",
              "      <td>100.750000</td>\n",
              "      <td>308.000000</td>\n",
              "      <td>103.000000</td>\n",
              "      <td>2.000000</td>\n",
              "      <td>2.500000</td>\n",
              "      <td>3.000000</td>\n",
              "      <td>8.170000</td>\n",
              "      <td>0.000000</td>\n",
              "      <td>0.640000</td>\n",
              "    </tr>\n",
              "    <tr>\n",
              "      <th>50%</th>\n",
              "      <td>200.500000</td>\n",
              "      <td>317.000000</td>\n",
              "      <td>107.000000</td>\n",
              "      <td>3.000000</td>\n",
              "      <td>3.500000</td>\n",
              "      <td>3.500000</td>\n",
              "      <td>8.610000</td>\n",
              "      <td>1.000000</td>\n",
              "      <td>0.730000</td>\n",
              "    </tr>\n",
              "    <tr>\n",
              "      <th>75%</th>\n",
              "      <td>300.250000</td>\n",
              "      <td>325.000000</td>\n",
              "      <td>112.000000</td>\n",
              "      <td>4.000000</td>\n",
              "      <td>4.000000</td>\n",
              "      <td>4.000000</td>\n",
              "      <td>9.062500</td>\n",
              "      <td>1.000000</td>\n",
              "      <td>0.830000</td>\n",
              "    </tr>\n",
              "    <tr>\n",
              "      <th>max</th>\n",
              "      <td>400.000000</td>\n",
              "      <td>340.000000</td>\n",
              "      <td>120.000000</td>\n",
              "      <td>5.000000</td>\n",
              "      <td>5.000000</td>\n",
              "      <td>5.000000</td>\n",
              "      <td>9.920000</td>\n",
              "      <td>1.000000</td>\n",
              "      <td>0.970000</td>\n",
              "    </tr>\n",
              "  </tbody>\n",
              "</table>\n",
              "</div>"
            ],
            "text/plain": [
              "       Serial_num.   GRE_Score  TOEFL_Score  ...        CGPA    Research      Chance\n",
              "count   400.000000  400.000000   400.000000  ...  400.000000  400.000000  400.000000\n",
              "mean    200.500000  316.807500   107.410000  ...    8.598925    0.547500    0.724350\n",
              "std     115.614301   11.473646     6.069514  ...    0.596317    0.498362    0.142609\n",
              "min       1.000000  290.000000    92.000000  ...    6.800000    0.000000    0.340000\n",
              "25%     100.750000  308.000000   103.000000  ...    8.170000    0.000000    0.640000\n",
              "50%     200.500000  317.000000   107.000000  ...    8.610000    1.000000    0.730000\n",
              "75%     300.250000  325.000000   112.000000  ...    9.062500    1.000000    0.830000\n",
              "max     400.000000  340.000000   120.000000  ...    9.920000    1.000000    0.970000\n",
              "\n",
              "[8 rows x 9 columns]"
            ]
          },
          "metadata": {},
          "execution_count": 43
        }
      ]
    },
    {
      "cell_type": "code",
      "metadata": {
        "id": "HpcX5VvKUKN4",
        "colab": {
          "base_uri": "https://localhost:8080/"
        },
        "outputId": "82124a78-4f4a-44c4-f02b-7231aa2035bf"
      },
      "source": [
        "dados.shape"
      ],
      "execution_count": null,
      "outputs": [
        {
          "output_type": "execute_result",
          "data": {
            "text/plain": [
              "(400, 9)"
            ]
          },
          "metadata": {},
          "execution_count": 6
        }
      ]
    },
    {
      "cell_type": "code",
      "metadata": {
        "id": "tgoCOtvXUNSB",
        "colab": {
          "base_uri": "https://localhost:8080/"
        },
        "outputId": "b03e9fea-389e-44cf-a218-b8f239fe17a0"
      },
      "source": [
        "dados.isnull().sum()"
      ],
      "execution_count": null,
      "outputs": [
        {
          "output_type": "execute_result",
          "data": {
            "text/plain": [
              "Serial_num.          0\n",
              "GRE_Score            0\n",
              "TOEFL_Score          0\n",
              "University_Rating    0\n",
              "SOP                  0\n",
              "LOR                  0\n",
              "CGPA                 0\n",
              "Research             0\n",
              "Chance               0\n",
              "dtype: int64"
            ]
          },
          "metadata": {},
          "execution_count": 7
        }
      ]
    },
    {
      "cell_type": "code",
      "metadata": {
        "id": "CryV81OUxF8D",
        "colab": {
          "base_uri": "https://localhost:8080/",
          "height": 886
        },
        "outputId": "74a4a968-3be9-443f-bee2-6fd22b9612a5"
      },
      "source": [
        "dados.hist(figsize=(12,12))"
      ],
      "execution_count": null,
      "outputs": [
        {
          "output_type": "execute_result",
          "data": {
            "text/plain": [
              "array([[<matplotlib.axes._subplots.AxesSubplot object at 0x7ff689e62fd0>,\n",
              "        <matplotlib.axes._subplots.AxesSubplot object at 0x7ff689b6a590>,\n",
              "        <matplotlib.axes._subplots.AxesSubplot object at 0x7ff689b97b10>],\n",
              "       [<matplotlib.axes._subplots.AxesSubplot object at 0x7ff689b570d0>,\n",
              "        <matplotlib.axes._subplots.AxesSubplot object at 0x7ff689b0c650>,\n",
              "        <matplotlib.axes._subplots.AxesSubplot object at 0x7ff689ac1bd0>],\n",
              "       [<matplotlib.axes._subplots.AxesSubplot object at 0x7ff689a82210>,\n",
              "        <matplotlib.axes._subplots.AxesSubplot object at 0x7ff689a376d0>,\n",
              "        <matplotlib.axes._subplots.AxesSubplot object at 0x7ff689a37710>]],\n",
              "      dtype=object)"
            ]
          },
          "metadata": {},
          "execution_count": 38
        },
        {
          "output_type": "display_data",
          "data": {
            "image/png": "[encoded data removed]",
            "text/plain": [
              "<Figure size 864x864 with 9 Axes>"
            ]
          },
          "metadata": {
            "needs_background": "light"
          }
        }
      ]
    },
    {
      "cell_type": "markdown",
      "metadata": {
        "id": "3XWgk50QPoZg"
      },
      "source": [
        "a) OBRIGATÓRIO: Explicar quais features estão envolvidas e o seu respectivo target\n",
        "\n"
      ]
    },
    {
      "cell_type": "markdown",
      "metadata": {
        "id": "N2qto8x47SMQ"
      },
      "source": [
        "dados.info() descobrir todas informações como um todo;\n",
        "\n",
        "dados.head() exibir as primeiras 5 linhas;\n",
        "\n",
        "dados.shape exibir o número de linhas e colunas;\n",
        "\n",
        "dados.isnull().sum() buscar dentro dos dados algo nulo, felizmente nada nulo;\n",
        "\n",
        "dados.colums mostrar as colunas presentes, assim acessá-las;\n",
        "\n",
        "dados.describe() com a intenção de obter um resumo estatístico dos dados;\n",
        "\n",
        "dados.hist exibir um histograma, melhorando a visualização dos dados."
      ]
    },
    {
      "cell_type": "code",
      "metadata": {
        "id": "k25bVpoomafx"
      },
      "source": [
        "from sklearn.model_selection import train_test_split\n",
        "x = dados.drop(columns=['Serial_num.','University_Rating','Chance']).values \n",
        "y = dados.Chance.values\n",
        "\n",
        "x_train, x_test, y_train, y_test = train_test_split(x, y,\n",
        "                     test_size = 0.3, random_state = 44)\n"
      ],
      "execution_count": null,
      "outputs": []
    },
    {
      "cell_type": "code",
      "metadata": {
        "id": "uei1_23NVw3U",
        "colab": {
          "base_uri": "https://localhost:8080/"
        },
        "outputId": "14b3cf90-d124-479d-d9d8-f5e7a31aa575"
      },
      "source": [
        "from sklearn.linear_model import LinearRegression\n",
        "lin_regression = LinearRegression()\n",
        "lin_regression.fit(x_train,y_train)"
      ],
      "execution_count": null,
      "outputs": [
        {
          "output_type": "execute_result",
          "data": {
            "text/plain": [
              "LinearRegression(copy_X=True, fit_intercept=True, n_jobs=None, normalize=False)"
            ]
          },
          "metadata": {},
          "execution_count": 10
        }
      ]
    },
    {
      "cell_type": "markdown",
      "metadata": {
        "id": "rhRH_H19Rvk6"
      },
      "source": [
        "# 4. Metricas de desempenho \n",
        "\n"
      ]
    },
    {
      "cell_type": "code",
      "metadata": {
        "id": "XWzu7SaEs9zz"
      },
      "source": [
        "from sklearn.metrics import mean_squared_error, mean_absolute_error, r2_score\n",
        "y_pred = lin_regression.predict(x_test)"
      ],
      "execution_count": null,
      "outputs": []
    },
    {
      "cell_type": "code",
      "metadata": {
        "id": "VrOEQ2gWyGoH",
        "colab": {
          "base_uri": "https://localhost:8080/"
        },
        "outputId": "409e6817-2a18-4881-d3af-0f9be0c53820"
      },
      "source": [
        "print(f'MAE score de: {mean_absolute_error(y_test, y_pred)}')"
      ],
      "execution_count": null,
      "outputs": [
        {
          "output_type": "stream",
          "name": "stdout",
          "text": [
            "MAE score de: 0.04212670714891852\n"
          ]
        }
      ]
    },
    {
      "cell_type": "code",
      "metadata": {
        "id": "D_EBUsdox9DX",
        "colab": {
          "base_uri": "https://localhost:8080/"
        },
        "outputId": "3d14c220-642c-4b2b-dcbe-a131091be83f"
      },
      "source": [
        "print(f'R² score de: {r2_score(y_test, y_pred)}')"
      ],
      "execution_count": null,
      "outputs": [
        {
          "output_type": "stream",
          "name": "stdout",
          "text": [
            "R² score de: 0.8242601416957029\n"
          ]
        }
      ]
    },
    {
      "cell_type": "code",
      "metadata": {
        "id": "C9j4zTLGx_7f",
        "colab": {
          "base_uri": "https://localhost:8080/"
        },
        "outputId": "c7757f58-4b77-466e-df7c-11949a62ffaf"
      },
      "source": [
        "print(f'MSE score de: {mean_squared_error(y_test, y_pred)}')"
      ],
      "execution_count": null,
      "outputs": [
        {
          "output_type": "stream",
          "name": "stdout",
          "text": [
            "MSE score de: 0.0035302183386521414\n"
          ]
        }
      ]
    }
  ]
}